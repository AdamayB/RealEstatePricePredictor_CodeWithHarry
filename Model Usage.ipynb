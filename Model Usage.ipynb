{
 "cells": [
  {
   "cell_type": "code",
   "execution_count": 1,
   "id": "6793653b",
   "metadata": {},
   "outputs": [],
   "source": [
    "from joblib import dump,load\n",
    "import numpy as np\n",
    "model = load('RealEstate.joblib')"
   ]
  },
  {
   "cell_type": "code",
   "execution_count": 5,
   "id": "200a6688",
   "metadata": {},
   "outputs": [
    {
     "data": {
      "text/plain": [
       "array([22.137])"
      ]
     },
     "execution_count": 5,
     "metadata": {},
     "output_type": "execute_result"
    }
   ],
   "source": [
    "features = np.array([[-0.43942006,  32.1222155, -1.12165014, -0.27288841, -1.42262747,\n",
    "       -0.24141041, -1.31238772,  8.61111401, -1.0016859 , -0.5778192 ,\n",
    "       -0.97491834,  1.41164221, -0.86091034]])\n",
    "model.predict(features)"
   ]
  },
  {
   "cell_type": "code",
   "execution_count": null,
   "id": "4192d988",
   "metadata": {},
   "outputs": [],
   "source": []
  }
 ],
 "metadata": {
  "kernelspec": {
   "display_name": "Python 3 (ipykernel)",
   "language": "python",
   "name": "python3"
  },
  "language_info": {
   "codemirror_mode": {
    "name": "ipython",
    "version": 3
   },
   "file_extension": ".py",
   "mimetype": "text/x-python",
   "name": "python",
   "nbconvert_exporter": "python",
   "pygments_lexer": "ipython3",
   "version": "3.10.5"
  }
 },
 "nbformat": 4,
 "nbformat_minor": 5
}
